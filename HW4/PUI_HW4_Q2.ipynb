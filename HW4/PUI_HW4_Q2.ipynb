{
 "cells": [
  {
   "cell_type": "markdown",
   "metadata": {},
   "source": [
    "# Assignment 2:\n",
    "    Test the difference between a Binomial/Poisson distribution and a Gaussian distribution as you change the parameters of the Binomial/Poisson. Use: \n",
    "    \n",
    "    1) KS\n",
    "    \n",
    "    2) KL or Chisq\n",
    "    \n",
    "    3) AD\n",
    "    \n",
    "    6 test total (8 if you are ambitious and want to try Pearson's chisq)\n",
    "    \n",
    "    I want you to use the scipy.stats package for this. it will provide tests. For KS and AD you will simply need to generate the distribution the normal will be tested agains: the KS and AD functions in scipy have functionality to test against standard distributions (normal, chisq etc) without you having to code up anything about the distribution itself. KL and chisq do not. I am showing you how to do the AD, KS and KL for binomial, you can replicate it for the poisson or do the Chisq instead of KL.\n",
    "    \n",
    "    even if you just replicate it... PLEASE UNDESRTAND IT! or you will have learned nothing and wasted both of our times"
   ]
  },
  {
   "cell_type": "code",
   "execution_count": 3,
   "metadata": {
    "collapsed": false
   },
   "outputs": [
    {
     "name": "stdout",
     "output_type": "stream",
     "text": [
      "Populating the interactive namespace from numpy and matplotlib\n",
      "\n"
     ]
    }
   ],
   "source": [
    "import pylab as pl\n",
    "import pandas as pd\n",
    "import numpy as np\n",
    "import os\n",
    "import scipy.stats\n",
    "import math\n",
    "%pylab inline\n",
    "np.random.seed(26) # because that's my age :)"
   ]
  },
  {
   "cell_type": "markdown",
   "metadata": {},
   "source": [
    "The hypothesis test for the KS-test is the following: \n",
    "\n",
    "$H_0$ =\tThe data follow a specified distribution.\n",
    "\n",
    "$H_1$ = The data do not follow the specified distribution\n",
    "\n",
    "Same for Anderson test.\n",
    "\n",
    "In our case, for example for poisson on normal:\n",
    "\n",
    "$H_0$ = Data from Poisson distribution follows a Normal distribution\n",
    "\n",
    "$H_0$ = Data from Poisson distribution does ***not*** follows a Normal distribution\n",
    "\n",
    "Specifically:\n",
    "\n",
    "***Kolmogorov–Smirnov test***: Quantifies the distance between the empricial distribution of the sample with the reference distribution by comparing the CDFs of both distributions.\n",
    "\n",
    "***Anderson-Darling test***: Does basically the same as the KS test, but applies more weight to the tails of the distributions."
   ]
  },
  {
   "cell_type": "markdown",
   "metadata": {},
   "source": [
    "###KS and Anderson Test"
   ]
  },
  {
   "cell_type": "code",
   "execution_count": 5,
   "metadata": {
    "collapsed": false
   },
   "outputs": [
    {
     "name": "stdout",
     "output_type": "stream",
     "text": [
      "\n"
     ]
    }
   ],
   "source": [
    "def mynorm (x,mu,var):\n",
    "    return scipy.stats.norm.cdf(x, loc=mu, scale=var) # var should be std dev"
   ]
  },
  {
   "cell_type": "code",
   "execution_count": 6,
   "metadata": {
    "collapsed": false
   },
   "outputs": [
    {
     "name": "stdout",
     "output_type": "stream",
     "text": [
      "Normal\n",
      "normal on normal: kstest KstestResult(statistic=0.025450455423220775, pvalue=0.53633009980937307)\n",
      "normal on normal: anderson AndersonResult(statistic=0.30058276743193346, critical_values=array([ 0.574,  0.653,  0.784,  0.914,  1.088]), significance_level=array([ 15. ,  10. ,   5. ,   2.5,   1. ]))\n",
      "\n",
      "\n",
      "Poisson\n",
      "poisson on normal: kstest KstestResult(statistic=0.251, pvalue=0.0)\n",
      "poisson on normal: anderson AndersonResult(statistic=62.737840901247864, critical_values=array([ 0.574,  0.653,  0.784,  0.914,  1.088]), significance_level=array([ 15. ,  10. ,   5. ,   2.5,   1. ]))\n",
      "\n",
      "\n",
      "Poisson with lamda = 40\n",
      "poisson on normal: kstest KstestResult(statistic=1.0, pvalue=0.0)\n",
      "poisson on normal: anderson AndersonResult(statistic=1.2795880088131071, critical_values=array([ 0.574,  0.653,  0.784,  0.914,  1.088]), significance_level=array([ 15. ,  10. ,   5. ,   2.5,   1. ]))\n"
     ]
    }
   ],
   "source": [
    "dist_n = np.random.normal(0,1,1000)\n",
    "\n",
    "print 'Normal'\n",
    "print \"normal on normal: kstest\", scipy.stats.kstest(dist_n,'norm')\n",
    "print \"normal on normal: anderson\", scipy.stats.anderson(dist_n, dist='norm') \n",
    "print\n",
    "print\n",
    "\n",
    "dist_p = np.random.poisson(lam=1.0, size=1000)\n",
    "\n",
    "print 'Poisson'\n",
    "print \"poisson on normal: kstest\", scipy.stats.kstest(dist_p, mynorm, args=(1.0, 1.0)) # since lamda = 1.0\n",
    "print 'poisson on normal: anderson', scipy.stats.anderson(dist_p, dist='norm')\n",
    "print \n",
    "print\n",
    "\n",
    "dist_p = np.random.poisson(lam=40.0, size=1000) # What if we increase lamda? => Distributions becomes similar to normal\n",
    "\n",
    "print 'Poisson with lamda = 40'\n",
    "print \"poisson on normal: kstest\", scipy.stats.kstest(dist_p, mynorm, args=(1.0, 1.0)) # since lamda = 1.0\n",
    "print 'poisson on normal: anderson', scipy.stats.anderson(dist_p, dist='norm')"
   ]
  },
  {
   "cell_type": "code",
   "execution_count": 7,
   "metadata": {
    "collapsed": false
   },
   "outputs": [
    {
     "name": "stdout",
     "output_type": "stream",
     "text": [
      "Binomial\n",
      "binomial on normal: kstest KstestResult(statistic=0.29257825838967583, pvalue=0.0)\n",
      "binomial on normal: anderson AndersonResult(statistic=3.4262112660989033, critical_values=array([ 0.574,  0.653,  0.784,  0.914,  1.088]), significance_level=array([ 15. ,  10. ,   5. ,   2.5,   1. ]))\n"
     ]
    }
   ],
   "source": [
    "n = 50\n",
    "p = 0.5\n",
    "dist_b = np.random.binomial(n,p,1000)\n",
    "\n",
    "print 'Binomial'\n",
    "print 'binomial on normal: kstest', scipy.stats.kstest(dist_b, mynorm, args=(n*p,n*p*(1.0-p)))\n",
    "print 'binomial on normal: anderson', scipy.stats.anderson(dist_b, dist='norm')"
   ]
  },
  {
   "cell_type": "code",
   "execution_count": 8,
   "metadata": {
    "collapsed": false
   },
   "outputs": [
    {
     "name": "stdout",
     "output_type": "stream",
     "text": [
      "Threshold: [ 1.088]\n",
      "Critical value for alpha = 5%\n"
     ]
    }
   ],
   "source": [
    "threshold = scipy.stats.anderson(dist_n, dist='norm')[1][scipy.stats.anderson(dist_n, dist='norm')[2]==[1.0]]\n",
    "print 'Threshold:',threshold #what is this threshold I am saving??\n",
    "print \"Critical value for alpha = 5%\""
   ]
  },
  {
   "cell_type": "markdown",
   "metadata": {},
   "source": [
    "###Conclusion:\n",
    "The p-value means we fail to reject the null hypothesis comparing a normally distributed sample to a normal distribution.\n",
    "\n",
    "For the Poisson and Binomial distributions, we reject the null hypothesis. \n"
   ]
  },
  {
   "cell_type": "markdown",
   "metadata": {},
   "source": [
    "### Kullback–Leibler divergence\n",
    "\n",
    "Measures the difference between two probability distributions, or how much information is lost when a specific sample is approximated by a certain distribution."
   ]
  },
  {
   "cell_type": "code",
   "execution_count": 9,
   "metadata": {
    "collapsed": true
   },
   "outputs": [],
   "source": [
    "dist_p = np.random.poisson(lam=1.0, size=1000)\n",
    "distpdf_n, mybins_n, = np.histogram(dist_n, density=True)\n",
    "distpdf_p, mybins_p, = np.histogram(dist_p, density=True)"
   ]
  },
  {
   "cell_type": "code",
   "execution_count": 10,
   "metadata": {
    "collapsed": false
   },
   "outputs": [
    {
     "name": "stdout",
     "output_type": "stream",
     "text": [
      "normal on normal 0.00151299468351\n",
      "poisson on normal 0.885809721103\n"
     ]
    }
   ],
   "source": [
    "bincenters_n = mybins_n[:-1] + 0.5*(mybins_n[1] - mybins_n[0])\n",
    "bincenters_p = mybins_p[:-1] + 0.5*(mybins_p[1] - mybins_p[0])\n",
    "print \"normal on normal\", scipy.stats.entropy(distpdf_n, scipy.stats.norm.pdf(bincenters_n))  \n",
    "print \"poisson on normal\", scipy.stats.entropy(distpdf_p, scipy.stats.norm.pdf(bincenters_p)) "
   ]
  },
  {
   "cell_type": "code",
   "execution_count": 11,
   "metadata": {
    "collapsed": false
   },
   "outputs": [
    {
     "name": "stdout",
     "output_type": "stream",
     "text": [
      "binomial on normal 222.322145159\n"
     ]
    }
   ],
   "source": [
    "# For binomial\n",
    "distpdf_b, mybins_b, = np.histogram(dist_b, density=True)\n",
    "bincenters_b = mybins_b[:-1] + 0.5*(mybins_b[1] - mybins_b[0])\n",
    "print \"binomial on normal\", scipy.stats.entropy(distpdf_b, scipy.stats.norm.pdf(bincenters_b)) "
   ]
  },
  {
   "cell_type": "markdown",
   "metadata": {},
   "source": [
    "####Pearson's Chi Squared Test\n",
    "\n",
    "H0: the frequency distribution of an observed sample is consistent with the chosen theoretical distribution\n",
    "\n",
    "H1: the frequency distribution of an observed sample is not consistent (or inconsistent) with the chosen theoretical distribution\n",
    "    "
   ]
  },
  {
   "cell_type": "code",
   "execution_count": 12,
   "metadata": {
    "collapsed": false
   },
   "outputs": [
    {
     "name": "stdout",
     "output_type": "stream",
     "text": [
      "normal on normal: test score = 0.0045457572724 p-value = 1.0\n",
      "poisson on normal: test score = 37.8235799267 p-value = 1.87484927999e-05\n",
      "binomial on normal: test score = 3.58328554738e+245 p-value = 0.0\n"
     ]
    }
   ],
   "source": [
    "chi2_n = scipy.stats.chisquare(distpdf_n, scipy.stats.norm.pdf(bincenters_n)) \n",
    "print \"normal on normal: test score =\",chi2_n[0], 'p-value =',chi2_n[1]\n",
    "chi2_p = scipy.stats.chisquare(distpdf_p,scipy.stats.norm.pdf(bincenters_p))\n",
    "print \"poisson on normal: test score =\",chi2_p[0], 'p-value =',chi2_p[1]\n",
    "chi2_b = scipy.stats.chisquare(distpdf_b,scipy.stats.norm.pdf(bincenters_b))\n",
    "print \"binomial on normal: test score =\",chi2_b[0], 'p-value =',chi2_b[1]"
   ]
  },
  {
   "cell_type": "markdown",
   "metadata": {},
   "source": [
    "###Conclusion:\n",
    "\n",
    "For normal on normal, we fail to reject the null hypothesis. However, for the Poisson and Binomial, we would reject the null."
   ]
  },
  {
   "cell_type": "markdown",
   "metadata": {},
   "source": [
    "##Binomial\n",
    "\n",
    "I can't get this one to work for some reason"
   ]
  },
  {
   "cell_type": "code",
   "execution_count": 16,
   "metadata": {
    "collapsed": false
   },
   "outputs": [
    {
     "ename": "ValueError",
     "evalue": "setting an array element with a sequence.",
     "output_type": "error",
     "traceback": [
      "\u001b[1;31m---------------------------------------------------------------------------\u001b[0m",
      "\u001b[1;31mValueError\u001b[0m                                Traceback (most recent call last)",
      "\u001b[1;32m<ipython-input-16-9aff0e3f9889>\u001b[0m in \u001b[0;36m<module>\u001b[1;34m()\u001b[0m\n\u001b[0;32m     15\u001b[0m     \u001b[0mbincenters_b\u001b[0m \u001b[1;33m=\u001b[0m \u001b[0mmybins_b\u001b[0m\u001b[1;33m[\u001b[0m\u001b[1;33m:\u001b[0m\u001b[1;33m-\u001b[0m\u001b[1;36m1\u001b[0m\u001b[1;33m]\u001b[0m \u001b[1;33m+\u001b[0m \u001b[1;36m0.5\u001b[0m\u001b[1;33m*\u001b[0m\u001b[1;33m(\u001b[0m\u001b[0mmybins_b\u001b[0m\u001b[1;33m[\u001b[0m\u001b[1;36m1\u001b[0m\u001b[1;33m]\u001b[0m \u001b[1;33m-\u001b[0m \u001b[0mmybins_b\u001b[0m\u001b[1;33m[\u001b[0m\u001b[1;36m0\u001b[0m\u001b[1;33m]\u001b[0m\u001b[1;33m)\u001b[0m\u001b[1;33m\u001b[0m\u001b[0m\n\u001b[0;32m     16\u001b[0m \u001b[1;33m\u001b[0m\u001b[0m\n\u001b[1;32m---> 17\u001b[1;33m     \u001b[0mchi2_b\u001b[0m\u001b[1;33m[\u001b[0m\u001b[0mi\u001b[0m\u001b[1;33m]\u001b[0m \u001b[1;33m=\u001b[0m \u001b[0mscipy\u001b[0m\u001b[1;33m.\u001b[0m\u001b[0mstats\u001b[0m\u001b[1;33m.\u001b[0m\u001b[0mchisquare\u001b[0m\u001b[1;33m(\u001b[0m\u001b[0mdistpdf_b\u001b[0m\u001b[1;33m,\u001b[0m\u001b[0mscipy\u001b[0m\u001b[1;33m.\u001b[0m\u001b[0mstats\u001b[0m\u001b[1;33m.\u001b[0m\u001b[0mnorm\u001b[0m\u001b[1;33m.\u001b[0m\u001b[0mpdf\u001b[0m\u001b[1;33m(\u001b[0m\u001b[0mbincenters_b\u001b[0m\u001b[1;33m)\u001b[0m\u001b[1;33m)\u001b[0m\u001b[1;33m\u001b[0m\u001b[0m\n\u001b[0m\u001b[0;32m     18\u001b[0m     \u001b[0mkl_b\u001b[0m\u001b[1;33m[\u001b[0m\u001b[0mi\u001b[0m\u001b[1;33m]\u001b[0m \u001b[1;33m=\u001b[0m  \u001b[0mscipy\u001b[0m\u001b[1;33m.\u001b[0m\u001b[0mstats\u001b[0m\u001b[1;33m.\u001b[0m\u001b[0mentropy\u001b[0m\u001b[1;33m(\u001b[0m\u001b[0mdistpdf_b\u001b[0m\u001b[1;33m,\u001b[0m \u001b[0mscipy\u001b[0m\u001b[1;33m.\u001b[0m\u001b[0mstats\u001b[0m\u001b[1;33m.\u001b[0m\u001b[0mnorm\u001b[0m\u001b[1;33m.\u001b[0m\u001b[0mpdf\u001b[0m\u001b[1;33m(\u001b[0m\u001b[0mbincenters_b\u001b[0m\u001b[1;33m)\u001b[0m\u001b[1;33m)\u001b[0m\u001b[1;33m\u001b[0m\u001b[0m\n",
      "\u001b[1;31mValueError\u001b[0m: setting an array element with a sequence."
     ]
    }
   ],
   "source": [
    "# Chi square does not work when iterating:\n",
    "narray = range(1,50,1)\n",
    "ks_b = np.zeros(len(narray))\n",
    "ad_b = np.zeros(len(narray))\n",
    "kl_b = np.zeros(len(narray))\n",
    "chi2_b = np.zeros(len(narray))\n",
    "\n",
    "p=0.1\n",
    "for i,n in enumerate(narray):\n",
    "    dist = np.random.binomial(n, p, 1000)\n",
    "    ks_b[i] = scipy.stats.kstest(dist, mynorm, args=(n*p, n*p*(1.0-p)))[0]\n",
    "    ad_b[i] = scipy.stats.anderson(dist, dist='norm')[0]\n",
    "  \n",
    "    distpdf_b, mybins_b, = np.histogram(dist_b, density=True)\n",
    "    bincenters_b = mybins_b[:-1] + 0.5*(mybins_b[1] - mybins_b[0])\n",
    "\n",
    "    chi2_b[i] = scipy.stats.chisquare(distpdf_b,scipy.stats.norm.pdf(bincenters_b))\n",
    "    kl_b[i] =  scipy.stats.entropy(distpdf_b, scipy.stats.norm.pdf(bincenters_b)) "
   ]
  },
  {
   "cell_type": "code",
   "execution_count": 15,
   "metadata": {
    "collapsed": false
   },
   "outputs": [
    {
     "ename": "ValueError",
     "evalue": "setting an array element with a sequence.",
     "output_type": "error",
     "traceback": [
      "\u001b[1;31m---------------------------------------------------------------------------\u001b[0m",
      "\u001b[1;31mValueError\u001b[0m                                Traceback (most recent call last)",
      "\u001b[1;32m<ipython-input-15-9aff0e3f9889>\u001b[0m in \u001b[0;36m<module>\u001b[1;34m()\u001b[0m\n\u001b[0;32m     15\u001b[0m     \u001b[0mbincenters_b\u001b[0m \u001b[1;33m=\u001b[0m \u001b[0mmybins_b\u001b[0m\u001b[1;33m[\u001b[0m\u001b[1;33m:\u001b[0m\u001b[1;33m-\u001b[0m\u001b[1;36m1\u001b[0m\u001b[1;33m]\u001b[0m \u001b[1;33m+\u001b[0m \u001b[1;36m0.5\u001b[0m\u001b[1;33m*\u001b[0m\u001b[1;33m(\u001b[0m\u001b[0mmybins_b\u001b[0m\u001b[1;33m[\u001b[0m\u001b[1;36m1\u001b[0m\u001b[1;33m]\u001b[0m \u001b[1;33m-\u001b[0m \u001b[0mmybins_b\u001b[0m\u001b[1;33m[\u001b[0m\u001b[1;36m0\u001b[0m\u001b[1;33m]\u001b[0m\u001b[1;33m)\u001b[0m\u001b[1;33m\u001b[0m\u001b[0m\n\u001b[0;32m     16\u001b[0m \u001b[1;33m\u001b[0m\u001b[0m\n\u001b[1;32m---> 17\u001b[1;33m     \u001b[0mchi2_b\u001b[0m\u001b[1;33m[\u001b[0m\u001b[0mi\u001b[0m\u001b[1;33m]\u001b[0m \u001b[1;33m=\u001b[0m \u001b[0mscipy\u001b[0m\u001b[1;33m.\u001b[0m\u001b[0mstats\u001b[0m\u001b[1;33m.\u001b[0m\u001b[0mchisquare\u001b[0m\u001b[1;33m(\u001b[0m\u001b[0mdistpdf_b\u001b[0m\u001b[1;33m,\u001b[0m\u001b[0mscipy\u001b[0m\u001b[1;33m.\u001b[0m\u001b[0mstats\u001b[0m\u001b[1;33m.\u001b[0m\u001b[0mnorm\u001b[0m\u001b[1;33m.\u001b[0m\u001b[0mpdf\u001b[0m\u001b[1;33m(\u001b[0m\u001b[0mbincenters_b\u001b[0m\u001b[1;33m)\u001b[0m\u001b[1;33m)\u001b[0m\u001b[1;33m\u001b[0m\u001b[0m\n\u001b[0m\u001b[0;32m     18\u001b[0m     \u001b[0mkl_b\u001b[0m\u001b[1;33m[\u001b[0m\u001b[0mi\u001b[0m\u001b[1;33m]\u001b[0m \u001b[1;33m=\u001b[0m  \u001b[0mscipy\u001b[0m\u001b[1;33m.\u001b[0m\u001b[0mstats\u001b[0m\u001b[1;33m.\u001b[0m\u001b[0mentropy\u001b[0m\u001b[1;33m(\u001b[0m\u001b[0mdistpdf_b\u001b[0m\u001b[1;33m,\u001b[0m \u001b[0mscipy\u001b[0m\u001b[1;33m.\u001b[0m\u001b[0mstats\u001b[0m\u001b[1;33m.\u001b[0m\u001b[0mnorm\u001b[0m\u001b[1;33m.\u001b[0m\u001b[0mpdf\u001b[0m\u001b[1;33m(\u001b[0m\u001b[0mbincenters_b\u001b[0m\u001b[1;33m)\u001b[0m\u001b[1;33m)\u001b[0m\u001b[1;33m\u001b[0m\u001b[0m\n",
      "\u001b[1;31mValueError\u001b[0m: setting an array element with a sequence."
     ]
    }
   ],
   "source": [
    "# Chi square does not work when iterating:\n",
    "narray = range(1,50,1)\n",
    "ks_b = np.zeros(len(narray))\n",
    "ad_b = np.zeros(len(narray))\n",
    "kl_b = np.zeros(len(narray))\n",
    "chi2_b = np.zeros(len(narray))\n",
    "\n",
    "p=0.1\n",
    "for i,n in enumerate(narray):\n",
    "    dist = np.random.binomial(n, p, 1000)\n",
    "    ks_b[i] = scipy.stats.kstest(dist, mynorm, args=(n*p, n*p*(1.0-p)))[0]\n",
    "    ad_b[i] = scipy.stats.anderson(dist, dist='norm')[0]\n",
    "  \n",
    "    distpdf_b, mybins_b, = np.histogram(dist_b, density=True)\n",
    "    bincenters_b = mybins_b[:-1] + 0.5*(mybins_b[1] - mybins_b[0])\n",
    "\n",
    "    chi2_b[i] = scipy.stats.chisquare(distpdf_b,scipy.stats.norm.pdf(bincenters_b))\n",
    "    kl_b[i] =  scipy.stats.entropy(distpdf_b, scipy.stats.norm.pdf(bincenters_b)) "
   ]
  },
  {
   "cell_type": "code",
   "execution_count": 20,
   "metadata": {
    "collapsed": false
   },
   "outputs": [
    {
     "data": {
      "text/plain": [
       "<matplotlib.legend.Legend at 0x1fa39470>"
      ]
     },
     "execution_count": 20,
     "metadata": {},
     "output_type": "execute_result"
    },
    {
     "data": {
      "image/png": "[encoded data removed]",
      "text/plain": [
       "<matplotlib.figure.Figure at 0x1f23b358>"
      ]
     },
     "metadata": {},
     "output_type": "display_data"
    }
   ],
   "source": [
    "fig = pl.figure(figsize = (15,5))\n",
    "fig.add_subplot(131)\n",
    "pl.plot(narray, ks_b, label='KS')\n",
    "pl.xlabel('$n*p$ value')\n",
    "pl.ylabel('KS test score')\n",
    "pl.title('1')\n",
    "pl.legend()\n",
    "\n",
    "fig.add_subplot(132)\n",
    "pl.plot(narray, ad_b,  label='AD')\n",
    "pl.xlabel('$n*p$ value')\n",
    "pl.ylabel('AD test score')\n",
    "pl.title('2')\n",
    "pl.legend()\n",
    "\n",
    "fig.add_subplot(133)\n",
    "pl.plot(narray, kl_b, label='K-L ')\n",
    "pl.xlabel('$n*p$ value')\n",
    "pl.ylabel('K-L test score')\n",
    "pl.title('3')\n",
    "pl.legend()"
   ]
  },
  {
   "cell_type": "markdown",
   "metadata": {},
   "source": [
    "##Poisson"
   ]
  },
  {
   "cell_type": "code",
   "execution_count": 17,
   "metadata": {
    "collapsed": false
   },
   "outputs": [
    {
     "ename": "ValueError",
     "evalue": "setting an array element with a sequence.",
     "output_type": "error",
     "traceback": [
      "\u001b[1;31m---------------------------------------------------------------------------\u001b[0m",
      "\u001b[1;31mValueError\u001b[0m                                Traceback (most recent call last)",
      "\u001b[1;32m<ipython-input-17-8847eeae8fec>\u001b[0m in \u001b[0;36m<module>\u001b[1;34m()\u001b[0m\n\u001b[0;32m     15\u001b[0m \u001b[1;33m\u001b[0m\u001b[0m\n\u001b[0;32m     16\u001b[0m     \u001b[0mkl_p\u001b[0m \u001b[1;33m[\u001b[0m\u001b[0mi\u001b[0m\u001b[1;33m]\u001b[0m \u001b[1;33m=\u001b[0m  \u001b[0mscipy\u001b[0m\u001b[1;33m.\u001b[0m\u001b[0mstats\u001b[0m\u001b[1;33m.\u001b[0m\u001b[0mentropy\u001b[0m\u001b[1;33m(\u001b[0m\u001b[0mdistpdf_b\u001b[0m\u001b[1;33m,\u001b[0m \u001b[0mscipy\u001b[0m\u001b[1;33m.\u001b[0m\u001b[0mstats\u001b[0m\u001b[1;33m.\u001b[0m\u001b[0mnorm\u001b[0m\u001b[1;33m.\u001b[0m\u001b[0mpdf\u001b[0m\u001b[1;33m(\u001b[0m\u001b[0mbincenters_b\u001b[0m\u001b[1;33m,\u001b[0m \u001b[0mloc\u001b[0m\u001b[1;33m=\u001b[0m\u001b[0mn\u001b[0m\u001b[1;33m,\u001b[0m \u001b[0mscale\u001b[0m\u001b[1;33m=\u001b[0m\u001b[0mn\u001b[0m\u001b[1;33m)\u001b[0m\u001b[1;33m)\u001b[0m\u001b[1;33m\u001b[0m\u001b[0m\n\u001b[1;32m---> 17\u001b[1;33m     \u001b[0mchi2_b\u001b[0m\u001b[1;33m[\u001b[0m\u001b[0mi\u001b[0m\u001b[1;33m]\u001b[0m \u001b[1;33m=\u001b[0m \u001b[0mscipy\u001b[0m\u001b[1;33m.\u001b[0m\u001b[0mstats\u001b[0m\u001b[1;33m.\u001b[0m\u001b[0mchisquare\u001b[0m\u001b[1;33m(\u001b[0m\u001b[0mdistpdf_b\u001b[0m\u001b[1;33m,\u001b[0m\u001b[0mscipy\u001b[0m\u001b[1;33m.\u001b[0m\u001b[0mstats\u001b[0m\u001b[1;33m.\u001b[0m\u001b[0mnorm\u001b[0m\u001b[1;33m.\u001b[0m\u001b[0mpdf\u001b[0m\u001b[1;33m(\u001b[0m\u001b[0mbincenters_b\u001b[0m\u001b[1;33m,\u001b[0m \u001b[0mloc\u001b[0m\u001b[1;33m=\u001b[0m\u001b[0mn\u001b[0m\u001b[1;33m,\u001b[0m \u001b[0mscale\u001b[0m\u001b[1;33m=\u001b[0m\u001b[0mn\u001b[0m\u001b[1;33m)\u001b[0m\u001b[1;33m)\u001b[0m\u001b[1;33m\u001b[0m\u001b[0m\n\u001b[0m",
      "\u001b[1;31mValueError\u001b[0m: setting an array element with a sequence."
     ]
    }
   ],
   "source": [
    "# Chi square does not work when iterating:\n",
    "narray = range(1,50,1)\n",
    "ks_p = np.zeros(len(narray))\n",
    "ad_p = np.zeros(len(narray))\n",
    "kl_p = np.zeros(len(narray))\n",
    "chi2_p = np.zeros(len(narray))\n",
    "\n",
    "for i,n in enumerate(narray):\n",
    "    dist = np.random.poisson(n, 1000)\n",
    "    ks_p[i] = scipy.stats.kstest(dist, mynorm, args=(n, n))[0]\n",
    "    ad_p[i] = scipy.stats.anderson(dist, dist='norm')[0]\n",
    "    \n",
    "    distpdf_b, mybins_b, = np.histogram(dist_b, density=True)\n",
    "    bincenters_b = mybins_b[:-1] + 0.5*(mybins_b[1] - mybins_b[0])\n",
    " \n",
    "    kl_p [i] =  scipy.stats.entropy(distpdf_b, scipy.stats.norm.pdf(bincenters_b, loc=n, scale=n))\n",
    "    chi2_b[i] = scipy.stats.chisquare(distpdf_b,scipy.stats.norm.pdf(bincenters_b, loc=n, scale=n))"
   ]
  },
  {
   "cell_type": "code",
   "execution_count": 18,
   "metadata": {
    "collapsed": true
   },
   "outputs": [],
   "source": [
    "narray = range(1,50,1)\n",
    "ks_p = np.zeros(len(narray))\n",
    "ad_p = np.zeros(len(narray))\n",
    "kl_p = np.zeros(len(narray))\n",
    "\n",
    "for i,n in enumerate(narray):\n",
    "    dist = np.random.poisson(n, 1000)\n",
    "    ks_p[i] = scipy.stats.kstest(dist, mynorm, args=(n, n))[0]\n",
    "    ad_p[i] = scipy.stats.anderson(dist, dist='norm')[0]\n",
    "    \n",
    "    mybins = np.linspace(min(dist),max(dist), 10) \n",
    "    bincenters = mybins[:-1]+0.5*(mybins[1]-mybins[0])\n",
    " \n",
    "    kl_p [i] =  scipy.stats.entropy(np.histogram(dist, bins=mybins)[0], scipy.stats.norm.pdf(bincenters, loc=n, scale=n))  "
   ]
  },
  {
   "cell_type": "code",
   "execution_count": 19,
   "metadata": {
    "collapsed": false
   },
   "outputs": [
    {
     "data": {
      "text/plain": [
       "<matplotlib.legend.Legend at 0x1f19aa90>"
      ]
     },
     "execution_count": 19,
     "metadata": {},
     "output_type": "execute_result"
    },
    {
     "data": {
      "image/png": "[encoded data removed]",
      "text/plain": [
       "<matplotlib.figure.Figure at 0x1ed917f0>"
      ]
     },
     "metadata": {},
     "output_type": "display_data"
    }
   ],
   "source": [
    "fig = pl.figure(figsize = (15,5))\n",
    "fig.add_subplot(131)\n",
    "pl.plot(narray, ks_p, label='KS')\n",
    "pl.xlabel('$\\lambda$')\n",
    "pl.ylabel('KS test score')\n",
    "pl.title('1')\n",
    "pl.legend()\n",
    "\n",
    "fig.add_subplot(132)\n",
    "pl.plot(narray, ad_p,  label='AD')\n",
    "pl.xlabel('$\\lambda$')\n",
    "pl.ylabel('AD test score')\n",
    "pl.title('2')\n",
    "pl.legend()\n",
    "\n",
    "fig.add_subplot(133)\n",
    "pl.plot(narray, kl_p, label='K-L ')\n",
    "pl.xlabel('$\\lambda$')\n",
    "pl.ylabel('K-L test score')\n",
    "pl.title('3')\n",
    "pl.legend()"
   ]
  }
 ],
 "metadata": {
  "kernelspec": {
   "display_name": "Python 2",
   "language": "python",
   "name": "python2"
  },
  "language_info": {
   "codemirror_mode": {
    "name": "ipython",
    "version": 2
   },
   "file_extension": ".py",
   "mimetype": "text/x-python",
   "name": "python",
   "nbconvert_exporter": "python",
   "pygments_lexer": "ipython2",
   "version": "2.7.10"
  }
 },
 "nbformat": 4,
 "nbformat_minor": 0
}
