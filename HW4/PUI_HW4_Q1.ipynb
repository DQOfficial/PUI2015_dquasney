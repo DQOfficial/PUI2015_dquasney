{
 "cells": [
  {
   "cell_type": "markdown",
   "metadata": {},
   "source": [
    "##HW4: Assignment 1"
   ]
  },
  {
   "cell_type": "markdown",
   "metadata": {},
   "source": [
    "#####All tests use an alpha level of 0.05"
   ]
  },
  {
   "cell_type": "code",
   "execution_count": 1,
   "metadata": {
    "collapsed": false
   },
   "outputs": [],
   "source": [
    "import pandas as pd\n",
    "import numpy as np\n",
    "import scipy.stats as scs\n",
    "import matplotlib.pyplot as plt\n",
    "import os\n",
    "import requests\n",
    "import StringIO\n",
    "import zipfile\n",
    "%matplotlib inline"
   ]
  },
  {
   "cell_type": "code",
   "execution_count": 2,
   "metadata": {
    "collapsed": false
   },
   "outputs": [],
   "source": [
    "# Using citibike data from June 2015\n",
    "r = requests.get('https://s3.amazonaws.com/tripdata/201506-citibike-tripdata.zip')\n",
    "z = zipfile.ZipFile(StringIO.StringIO(r.content)) \n",
    "citi = pd.read_csv(z.open('201506-citibike-tripdata.csv'))\n",
    "citi = citi.dropna()\n",
    "citi['starttime'] = pd.to_datetime(citi['starttime'])"
   ]
  },
  {
   "cell_type": "code",
   "execution_count": 3,
   "metadata": {
    "collapsed": true
   },
   "outputs": [],
   "source": [
    "data = citi[citi.usertype == 'Subscriber'] \n",
    "# use subscriber data\n"
   ]
  },
  {
   "cell_type": "code",
   "execution_count": 4,
   "metadata": {
    "collapsed": true
   },
   "outputs": [],
   "source": [
    "# split out groups by gender (male = 1, female = 2, unknown = 0)\n",
    "ageF = data[data.gender==2]\n",
    "ageF = ageF['birth year']\n",
    "ageM = data[data.gender==1]\n",
    "ageM = ageM['birth year']"
   ]
  },
  {
   "cell_type": "code",
   "execution_count": 5,
   "metadata": {
    "collapsed": false
   },
   "outputs": [],
   "source": [
    "data['starthour'] = data['starttime'].apply(lambda x: x.hour)"
   ]
  },
  {
   "cell_type": "code",
   "execution_count": 6,
   "metadata": {
    "collapsed": false
   },
   "outputs": [
    {
     "data": {
      "text/plain": [
       "257144"
      ]
     },
     "execution_count": 6,
     "metadata": {},
     "output_type": "execute_result"
    }
   ],
   "source": [
    "\n",
    "night1 = range(18,24) \n",
    "night2 = range(0,6)\n",
    "night_1 = data[data['starthour'].isin(night1)] \n",
    "night_2 = data[data['starthour'].isin(night2)]\n",
    "night = [night_1, night_2]\n",
    "night = pd.concat(night)\n",
    "night['starthour'].count() # checks whether code works"
   ]
  },
  {
   "cell_type": "code",
   "execution_count": 7,
   "metadata": {
    "collapsed": false
   },
   "outputs": [
    {
     "data": {
      "text/plain": [
       "17    81268\n",
       "8     72541\n",
       "9     55909\n",
       "16    53576\n",
       "15    42776\n",
       "7     41825\n",
       "14    41274\n",
       "13    40491\n",
       "12    37742\n",
       "11    32825\n",
       "10    32773\n",
       "6     20683\n",
       "Name: starthour, dtype: int64"
      ]
     },
     "execution_count": 7,
     "metadata": {},
     "output_type": "execute_result"
    }
   ],
   "source": [
    "# i'm going to define 'day' between 6 am and 6 pm\n",
    "day = data[(data['starthour'] < 18) & (data['starthour'] >= 6)]\n",
    "day['starthour'].value_counts() # check"
   ]
  },
  {
   "cell_type": "code",
   "execution_count": 8,
   "metadata": {
    "collapsed": false
   },
   "outputs": [],
   "source": [
    "day = day['birth year'] # Get a Series with just the birth year\n",
    "night = night['birth year'] # Get a Series with just the birth year\n",
    "\n",
    "ageF_sample = ageF.sample(100000,replace=False,random_state=3)\n",
    "ageM_sample = ageM.sample(100000,replace=False,random_state=6)"
   ]
  },
  {
   "cell_type": "markdown",
   "metadata": {},
   "source": [
    "##Testing the Age Data Set"
   ]
  },
  {
   "cell_type": "markdown",
   "metadata": {},
   "source": [
    "####Pearson Test\n",
    "Measures the possibility of a linear relationship between two data sets. Output of the test includes the correlation coefficient and the p-value to test non-correlation\n",
    "\n",
    "H0: samples are not correlated\n",
    "\n",
    "H1: samples are correlated"
   ]
  },
  {
   "cell_type": "code",
   "execution_count": 9,
   "metadata": {
    "collapsed": false
   },
   "outputs": [
    {
     "name": "stdout",
     "output_type": "stream",
     "text": [
      "Pearson Correlation Coefficient: -0.00198880478446\n",
      "\n",
      "P-Value: 0.529409252716\n"
     ]
    }
   ],
   "source": [
    "pearson = scs.pearsonr(ageF_sample, ageM_sample)\n",
    "print 'Pearson Correlation Coefficient:', pearson[0]\n",
    "print '\\nP-Value:', pearson[1]"
   ]
  },
  {
   "cell_type": "markdown",
   "metadata": {},
   "source": [
    "From this, we can conclude the correlation of almost 0 (-.00199) and accept the null hypothesis that there is no correlation between the two data sets"
   ]
  },
  {
   "cell_type": "markdown",
   "metadata": {
    "collapsed": false
   },
   "source": [
    "####Spearman's Test\n",
    "\n",
    "This test measures the relationship between two variables (or in this case, two data sets) and how well their relationship can be described by a monotonic function. A monotonic function is a function that is either entirely increasing or entirely decreasing. If rho = 1, a larger x value results in a larger y value.\n",
    "\n",
    "H0: Samples are not correlated\n",
    "\n",
    "H1: Samples are correlated"
   ]
  },
  {
   "cell_type": "code",
   "execution_count": 10,
   "metadata": {
    "collapsed": false
   },
   "outputs": [
    {
     "name": "stdout",
     "output_type": "stream",
     "text": [
      "Rho: -0.00226549834833\n",
      "\n",
      "P-Value: 0.473741033384\n"
     ]
    }
   ],
   "source": [
    "spearman = scs.spearmanr(ageF_sample, ageM_sample)\n",
    "print 'Rho:', spearman[0]\n",
    "print '\\nP-Value:', spearman[1]"
   ]
  },
  {
   "cell_type": "markdown",
   "metadata": {},
   "source": [
    "Rho is close to zero, so we can assume that there is no monotonic function that can describe the relationship between male and female riders. Since we also have a high p-value, we fail to reject the null hypothesis."
   ]
  },
  {
   "cell_type": "markdown",
   "metadata": {},
   "source": [
    "###Running the KS Test"
   ]
  },
  {
   "cell_type": "markdown",
   "metadata": {
    "collapsed": false
   },
   "source": [
    "For Kolmogorov-Smirnov statistic on 2 samples:\n",
    "\n",
    "H0: The two independent samples are from the same continuous distribution.\n",
    "\n",
    "H1: The two ind. samples are not from the same cont. distribution\n",
    "\n",
    "For Kolmogorov-Smirnov test for goodness of fit:\n",
    "\n",
    "H0: The two variables/samples are drawn from the same distribution\n",
    "\n",
    "H1: The two variables/samples are not drawn from the same distribution"
   ]
  },
  {
   "cell_type": "code",
   "execution_count": 11,
   "metadata": {
    "collapsed": true
   },
   "outputs": [],
   "source": [
    "data['ageFem'] = 2015 - ageF\n",
    "data['ageMal'] = 2015 - ageM"
   ]
  },
  {
   "cell_type": "code",
   "execution_count": 14,
   "metadata": {
    "collapsed": false
   },
   "outputs": [
    {
     "data": {
      "text/plain": [
       "<matplotlib.text.Text at 0x2a4f5400>"
      ]
     },
     "execution_count": 14,
     "metadata": {},
     "output_type": "execute_result"
    },
    {
     "data": {
      "image/png": "[encoded data removed]",
      "text/plain": [
       "<matplotlib.figure.Figure at 0x289e9240>"
      ]
     },
     "metadata": {},
     "output_type": "display_data"
    },
    {
     "data": {
      "image/png": "[encoded data removed]",
      "text/plain": [
       "<matplotlib.figure.Figure at 0x255baac8>"
      ]
     },
     "metadata": {},
     "output_type": "display_data"
    }
   ],
   "source": [
    "# plot for males\n",
    "bins = np.arange(10,99,10)\n",
    "data.ageMal.groupby(pd.cut(data.ageMal, bins)).agg([np.count_nonzero]).plot(kind='bar')\n",
    "plt.xlabel('Age')\n",
    "plt.ylabel('Frequency')\n",
    "\n",
    "# now plot for females\n",
    "bins = np.arange(10,99,10)\n",
    "data.ageFem.groupby(pd.cut(data.ageFem, bins)).agg([np.count_nonzero]).plot(kind='bar')\n",
    "plt.xlabel('Age')\n",
    "plt.ylabel('Frequency')"
   ]
  },
  {
   "cell_type": "markdown",
   "metadata": {},
   "source": [
    "The histrograms show fairly similar distributions between male and female riders"
   ]
  },
  {
   "cell_type": "code",
   "execution_count": 16,
   "metadata": {
    "collapsed": false
   },
   "outputs": [
    {
     "data": {
      "text/plain": [
       "<matplotlib.legend.Legend at 0x289dae80>"
      ]
     },
     "execution_count": 16,
     "metadata": {},
     "output_type": "execute_result"
    },
    {
     "data": {
      "image/png": "[encoded data removed]",
      "text/plain": [
       "<matplotlib.figure.Figure at 0x2a4e9ef0>"
      ]
     },
     "metadata": {},
     "output_type": "display_data"
    }
   ],
   "source": [
    "csM = data.ageMal.groupby(pd.cut(data.ageMal, bins)).agg([np.count_nonzero]).cumsum()\n",
    "csF = data.ageFem.groupby(pd.cut(data.ageFem, bins)).agg([np.count_nonzero]).cumsum()\n",
    "\n",
    "figure = plt.figure()\n",
    "plt.plot(bins[:-1] + 5, csM / csM.max(), label = \"M\")\n",
    "plt.plot(bins[:-1] + 5, csF / csF.max(), label = \"F\")\n",
    "plt.legend()"
   ]
  },
  {
   "cell_type": "markdown",
   "metadata": {},
   "source": [
    "### KS Test for Goodness of Fit"
   ]
  },
  {
   "cell_type": "code",
   "execution_count": 17,
   "metadata": {
    "collapsed": false
   },
   "outputs": [
    {
     "name": "stdout",
     "output_type": "stream",
     "text": [
      "t score: 0.0839531252327\n",
      "\n",
      "p-value: 0.0\n"
     ]
    }
   ],
   "source": [
    "# test if male ridership has a normal distribution\n",
    "m = scs.kstest(ageM, 'norm', args=(1978,11))\n",
    "print 't score:', m[0]\n",
    "print '\\np-value:', m[1]"
   ]
  },
  {
   "cell_type": "markdown",
   "metadata": {},
   "source": [
    "From this, we can conclude that the male age distribution is not drawn from a normal distribution"
   ]
  },
  {
   "cell_type": "code",
   "execution_count": 18,
   "metadata": {
    "collapsed": false
   },
   "outputs": [
    {
     "name": "stdout",
     "output_type": "stream",
     "text": [
      "t score: 0.10846244344\n",
      "\n",
      "p-value: 0.0\n"
     ]
    }
   ],
   "source": [
    "# test if female ridership has a female distribution\n",
    "f = scs.kstest(ageF, 'norm', args = (1978,11))\n",
    "print 't score:', f[0]\n",
    "print '\\np-value:', f[1]"
   ]
  },
  {
   "cell_type": "markdown",
   "metadata": {},
   "source": [
    "Female age distribution is also not drawn from a normal distribution"
   ]
  },
  {
   "cell_type": "markdown",
   "metadata": {},
   "source": [
    "###KS Test on Two Samples"
   ]
  },
  {
   "cell_type": "code",
   "execution_count": 19,
   "metadata": {
    "collapsed": false
   },
   "outputs": [
    {
     "name": "stdout",
     "output_type": "stream",
     "text": [
      "t score: 0.076862276801\n",
      "p-value: 0.0\n"
     ]
    }
   ],
   "source": [
    "ks = scs.ks_2samp(ageM, ageF)\n",
    "print 't score:', ks[0]\n",
    "print 'p-value:', ks[1]"
   ]
  },
  {
   "cell_type": "markdown",
   "metadata": {},
   "source": [
    "From this, we should reject the null hypothesis that the two gender distributions are drawn from the same distriubtion. "
   ]
  },
  {
   "cell_type": "markdown",
   "metadata": {},
   "source": [
    "#Comparing Daytime and Nighttime Riders"
   ]
  },
  {
   "cell_type": "markdown",
   "metadata": {},
   "source": [
    "###Pearson Test"
   ]
  },
  {
   "cell_type": "code",
   "execution_count": 24,
   "metadata": {
    "collapsed": true
   },
   "outputs": [],
   "source": [
    "# make two datasets the same size\n",
    "day_sample = day.sample(200000, replace=False, random_state=3)\n",
    "night_sample = night.sample(200000, replace=False, random_state=3)"
   ]
  },
  {
   "cell_type": "code",
   "execution_count": 25,
   "metadata": {
    "collapsed": false
   },
   "outputs": [
    {
     "name": "stdout",
     "output_type": "stream",
     "text": [
      "Pearson Correlation Coefficient: -0.00405399293613\n",
      "\n",
      "p-value: 0.0698323033228\n"
     ]
    }
   ],
   "source": [
    "pearson = scs.pearsonr(night_sample,day_sample)\n",
    "print 'Pearson Correlation Coefficient:',pearson[0]\n",
    "print '\\np-value:', pearson[1]"
   ]
  },
  {
   "cell_type": "markdown",
   "metadata": {},
   "source": [
    "###Spearman's Test"
   ]
  },
  {
   "cell_type": "code",
   "execution_count": 27,
   "metadata": {
    "collapsed": false
   },
   "outputs": [
    {
     "name": "stdout",
     "output_type": "stream",
     "text": [
      "Rho: -0.00280095121596\n",
      "p-value: 0.210344727439\n"
     ]
    }
   ],
   "source": [
    "spearman =  scs.spearmanr(night_sample,day_sample)\n",
    "print 'Rho:', spearman[0]\n",
    "print 'p-value:', spearman[1]"
   ]
  },
  {
   "cell_type": "markdown",
   "metadata": {},
   "source": [
    "###KS Test"
   ]
  },
  {
   "cell_type": "markdown",
   "metadata": {},
   "source": [
    "####For Day Time:"
   ]
  },
  {
   "cell_type": "code",
   "execution_count": 28,
   "metadata": {
    "collapsed": false
   },
   "outputs": [
    {
     "name": "stdout",
     "output_type": "stream",
     "text": [
      "t score: 0.0936848749484\n",
      "\n",
      "p-value: 0.0\n"
     ]
    }
   ],
   "source": [
    "dm = day_sample.mean()\n",
    "dstd = day_sample.std()\n",
    "d = scs.kstest(day_sample, 'norm', args = (dm,dstd))\n",
    "print 't score:', d[0]\n",
    "print '\\np-value:', d[1]"
   ]
  },
  {
   "cell_type": "markdown",
   "metadata": {},
   "source": [
    "####For Nighttime:"
   ]
  },
  {
   "cell_type": "code",
   "execution_count": 30,
   "metadata": {
    "collapsed": false
   },
   "outputs": [
    {
     "name": "stdout",
     "output_type": "stream",
     "text": [
      "t score: 0.495854343587\n",
      "\n",
      "p-value: 0.0\n"
     ]
    }
   ],
   "source": [
    "nm = night_sample.mean()\n",
    "nstd = night_sample.mean()\n",
    "n = scs.kstest(night_sample, 'norm', args = (nm,nstd))\n",
    "print 't score:', n[0]\n",
    "print '\\np-value:', n[1]"
   ]
  },
  {
   "cell_type": "markdown",
   "metadata": {},
   "source": [
    "###KS Test on Two Samples:"
   ]
  },
  {
   "cell_type": "code",
   "execution_count": 31,
   "metadata": {
    "collapsed": false
   },
   "outputs": [
    {
     "name": "stdout",
     "output_type": "stream",
     "text": [
      "t score: 0.118375\n",
      "\n",
      "p-value: 0.0\n"
     ]
    }
   ],
   "source": [
    "ks = scs.ks_2samp(day_sample, night_sample)\n",
    "print 't score:', ks[0]\n",
    "print '\\np-value:', ks[1]"
   ]
  },
  {
   "cell_type": "markdown",
   "metadata": {},
   "source": [
    "####Conclusion:\n",
    "Day and night distributions are not drawn from the sample distribution"
   ]
  },
  {
   "cell_type": "code",
   "execution_count": null,
   "metadata": {
    "collapsed": true
   },
   "outputs": [],
   "source": []
  }
 ],
 "metadata": {
  "kernelspec": {
   "display_name": "Python 2",
   "language": "python",
   "name": "python2"
  },
  "language_info": {
   "codemirror_mode": {
    "name": "ipython",
    "version": 2
   },
   "file_extension": ".py",
   "mimetype": "text/x-python",
   "name": "python",
   "nbconvert_exporter": "python",
   "pygments_lexer": "ipython2",
   "version": "2.7.10"
  }
 },
 "nbformat": 4,
 "nbformat_minor": 0
}
