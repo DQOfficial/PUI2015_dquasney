{
 "cells": [
  {
   "cell_type": "code",
   "execution_count": 1,
   "metadata": {
    "collapsed": true
   },
   "outputs": [],
   "source": [
    "import numpy as np\n",
    "import pandas as pd\n",
    "import scipy.stats\n",
    "import requests\n",
    "import StringIO\n",
    "import zipfile\n",
    "import math"
   ]
  },
  {
   "cell_type": "code",
   "execution_count": 5,
   "metadata": {
    "collapsed": true
   },
   "outputs": [],
   "source": [
    "r = requests.get('https://s3.amazonaws.com/tripdata/201506-citibike-tripdata.zip')\n",
    "z = zipfile.ZipFile(StringIO.StringIO(r.content)) \n",
    "june = pd.read_csv(z.open('201506-citibike-tripdata.csv'))\n",
    "june = august.dropna()\n",
    "age_jun = august['birth year']"
   ]
  },
  {
   "cell_type": "markdown",
   "metadata": {},
   "source": [
    "Test whether the distribution for age follows a normal distribution"
   ]
  },
  {
   "cell_type": "code",
   "execution_count": 6,
   "metadata": {
    "collapsed": false
   },
   "outputs": [],
   "source": [
    "# mean for age in june:\n",
    "m_jun = age_jun.mean()\n",
    "std_jun = age_jun.std()"
   ]
  },
  {
   "cell_type": "code",
   "execution_count": 7,
   "metadata": {
    "collapsed": true
   },
   "outputs": [],
   "source": [
    "def mynorm (x, mu, var):\n",
    "    return scipy.stats.norm.cdf(x, loc=mu, scale=var)\n",
    "def mybin (x, n, p):\n",
    "    return scipy.stats.logistic.cdf(x, loc=n*p, scale=n*p*(1.0-p))\n",
    "def mypoiss (x, l, k):\n",
    "    return scipy.stats.logistic.cdf(x, loc=l, scale=k)"
   ]
  },
  {
   "cell_type": "markdown",
   "metadata": {},
   "source": [
    "###Test for Gaussian Distribution"
   ]
  },
  {
   "cell_type": "code",
   "execution_count": 8,
   "metadata": {
    "collapsed": false
   },
   "outputs": [
    {
     "name": "stdout",
     "output_type": "stream",
     "text": [
      "KS Test Score: 0.103096956006\n",
      "p-value: 0.0\n",
      "\n",
      "Anderson Test Score: 11329.4652415\n",
      "p-value: [ 0.576  0.656  0.787  0.918  1.092]\n"
     ]
    }
   ],
   "source": [
    "kstest = scipy.stats.kstest(age_jun, mynorm, args = (m_jun, std_jun))\n",
    "anderson = scipy.stats.anderson(age_jun, dist = 'norm')\n",
    "\n",
    "print 'KS Test Score:', kstest[0]\n",
    "print 'p-value:', kstest[1]\n",
    "print '\\nAnderson Test Score:', anderson[0]\n",
    "print 'p-value:', anderson[1]"
   ]
  },
  {
   "cell_type": "markdown",
   "metadata": {},
   "source": [
    "In light of this result, we reject the null hypothesis"
   ]
  },
  {
   "cell_type": "markdown",
   "metadata": {},
   "source": [
    "###Test for Logistic Distribution"
   ]
  },
  {
   "cell_type": "code",
   "execution_count": 10,
   "metadata": {
    "collapsed": false
   },
   "outputs": [],
   "source": [
    "kstest = scipy.stats.kstest(age_aug, 'logistic')\n",
    "anderson = scipy.stats.anderson(age_aug, dist='logistic') "
   ]
  },
  {
   "cell_type": "markdown",
   "metadata": {},
   "source": [
    "print 'KS Test Score =',kstest[0],\n",
    "print '\\np-value =',kstest[1]\n",
    "\n",
    "print 'Anderson Test:',anderson[0]"
   ]
  },
  {
   "cell_type": "markdown",
   "metadata": {},
   "source": [
    "We also reject the null hypothesis for this test as well"
   ]
  },
  {
   "cell_type": "markdown",
   "metadata": {},
   "source": [
    "##Test for Poisson and Gamma using K-L Divergence"
   ]
  },
  {
   "cell_type": "code",
   "execution_count": 14,
   "metadata": {
    "collapsed": false
   },
   "outputs": [
    {
     "name": "stdout",
     "output_type": "stream",
     "text": [
      "KS Test Score: 0.179763691587\n",
      "p-value: 0.0\n"
     ]
    }
   ],
   "source": [
    "# Poisson\n",
    "kstest = scipy.stats.kstest(age_jun,mypoiss,args = (m_jun,std_jun))\n",
    "print 'KS Test Score:', kstest[0]\n",
    "print 'p-value:', kstest[1]"
   ]
  },
  {
   "cell_type": "code",
   "execution_count": 16,
   "metadata": {
    "collapsed": false
   },
   "outputs": [
    {
     "name": "stdout",
     "output_type": "stream",
     "text": [
      "KS Test Score: 0.436369588107\n",
      "\n",
      "p-value: 0.0\n"
     ]
    }
   ],
   "source": [
    "# Gamma\n",
    "kstest = scipy.stats.kstest(age_jun,'gamma', args = (m_jun,std_jun))\n",
    "print 'KS Test Score:', kstest[0]\n",
    "print '\\np-value:', kstest[1]"
   ]
  },
  {
   "cell_type": "markdown",
   "metadata": {},
   "source": [
    "Again, we would reject H0"
   ]
  },
  {
   "cell_type": "markdown",
   "metadata": {},
   "source": [
    "Poisson"
   ]
  },
  {
   "cell_type": "code",
   "execution_count": 19,
   "metadata": {
    "collapsed": true
   },
   "outputs": [],
   "source": [
    "pdf_jun, bins_jun = np.histogram(age_jun, density = True)"
   ]
  },
  {
   "cell_type": "code",
   "execution_count": 20,
   "metadata": {
    "collapsed": true
   },
   "outputs": [],
   "source": [
    "bins_c_jun = bins_jun[:-1] + 0.5*(bins_jun[1] - bins_jun[0])"
   ]
  },
  {
   "cell_type": "code",
   "execution_count": 21,
   "metadata": {
    "collapsed": false
   },
   "outputs": [
    {
     "name": "stdout",
     "output_type": "stream",
     "text": [
      "inf\n"
     ]
    }
   ],
   "source": [
    "kl = scipy.stats.entropy(pdf_jun, scipy.stats.poisson.pmf(bins_c_jun,m_jun,math.sqrt(m_jun)))\n",
    "print kl"
   ]
  },
  {
   "cell_type": "code",
   "execution_count": 22,
   "metadata": {
    "collapsed": false
   },
   "outputs": [
    {
     "name": "stdout",
     "output_type": "stream",
     "text": [
      "inf\n"
     ]
    }
   ],
   "source": [
    "kl = scipy.stats.entropy(pdf_jun,scipy.stats.poisson.pmf(bins_c_jun,m_jun))\n",
    "print kl"
   ]
  },
  {
   "cell_type": "code",
   "execution_count": 24,
   "metadata": {
    "collapsed": false
   },
   "outputs": [
    {
     "name": "stdout",
     "output_type": "stream",
     "text": [
      "KS Test Score: 0.333850797897\n",
      "\n",
      "p-value 0.0\n"
     ]
    }
   ],
   "source": [
    "kstest = scipy.stats.kstest(age_jun, 'poisson', args = (m_jun,))\n",
    "print 'KS Test Score:', kstest[0]\n",
    "print '\\np-value', kstest[1]"
   ]
  },
  {
   "cell_type": "markdown",
   "metadata": {},
   "source": [
    "Based on the KS test, we fail to reject the null hypothesis because the difference from KL is too large, meaning that the two distributions are not the same"
   ]
  },
  {
   "cell_type": "markdown",
   "metadata": {},
   "source": [
    "#Part II: Spring and Summer vs. Winter and Fall"
   ]
  },
  {
   "cell_type": "code",
   "execution_count": null,
   "metadata": {
    "collapsed": true
   },
   "outputs": [],
   "source": [
    "# pull summer data\n",
    "# July\n",
    "r = requests.get('https://s3.amazonaws.com/tripdata/201507-citibike-tripdata.zip')\n",
    "z = zipfile.ZipFile(StringIO.StringIO(r.content)) \n",
    "july = pd.read_csv(z.open('201507-citibike-tripdata.csv'))\n",
    "july = july.dropna()\n",
    "\n",
    "# August\n",
    "r = requests.get('https://s3.amazonaws.com/tripdata/201508-citibike-tripdata.zip')\n",
    "z = zipfile.ZipFile(StringIO.StringIO(r.content)) \n",
    "august = pd.read_csv(z.open('201508-citibike-tripdata.csv'))\n",
    "august = august.dropna()\n",
    "\n",
    "# September\n",
    "r = requests.get('https://s3.amazonaws.com/tripdata/201509-citibike-tripdata.zip')\n",
    "z = zipfile.ZipFile(StringIO.StringIO(r.content)) \n",
    "september = pd.read_csv(z.open('201509-citibike-tripdata.csv'))\n",
    "september = september.dropna()"
   ]
  },
  {
   "cell_type": "code",
   "execution_count": 25,
   "metadata": {
    "collapsed": false
   },
   "outputs": [
    {
     "ename": "KeyError",
     "evalue": "\"There is no item named '201501-citibike-tripdata.csv' in the archive\"",
     "output_type": "error",
     "traceback": [
      "\u001b[1;31m---------------------------------------------------------------------------\u001b[0m",
      "\u001b[1;31mKeyError\u001b[0m                                  Traceback (most recent call last)",
      "\u001b[1;32m<ipython-input-25-246c6a1570c7>\u001b[0m in \u001b[0;36m<module>\u001b[1;34m()\u001b[0m\n\u001b[0;32m      9\u001b[0m \u001b[0mr\u001b[0m \u001b[1;33m=\u001b[0m \u001b[0mrequests\u001b[0m\u001b[1;33m.\u001b[0m\u001b[0mget\u001b[0m\u001b[1;33m(\u001b[0m\u001b[1;34m'https://s3.amazonaws.com/tripdata/201502-citibike-tripdata.zip'\u001b[0m\u001b[1;33m)\u001b[0m\u001b[1;33m\u001b[0m\u001b[0m\n\u001b[0;32m     10\u001b[0m \u001b[0mz\u001b[0m \u001b[1;33m=\u001b[0m \u001b[0mzipfile\u001b[0m\u001b[1;33m.\u001b[0m\u001b[0mZipFile\u001b[0m\u001b[1;33m(\u001b[0m\u001b[0mStringIO\u001b[0m\u001b[1;33m.\u001b[0m\u001b[0mStringIO\u001b[0m\u001b[1;33m(\u001b[0m\u001b[0mr\u001b[0m\u001b[1;33m.\u001b[0m\u001b[0mcontent\u001b[0m\u001b[1;33m)\u001b[0m\u001b[1;33m)\u001b[0m\u001b[1;33m\u001b[0m\u001b[0m\n\u001b[1;32m---> 11\u001b[1;33m \u001b[0mjanuary\u001b[0m \u001b[1;33m=\u001b[0m \u001b[0mpd\u001b[0m\u001b[1;33m.\u001b[0m\u001b[0mread_csv\u001b[0m\u001b[1;33m(\u001b[0m\u001b[0mz\u001b[0m\u001b[1;33m.\u001b[0m\u001b[0mopen\u001b[0m\u001b[1;33m(\u001b[0m\u001b[1;34m'201501-citibike-tripdata.csv'\u001b[0m\u001b[1;33m)\u001b[0m\u001b[1;33m)\u001b[0m\u001b[1;33m\u001b[0m\u001b[0m\n\u001b[0m\u001b[0;32m     12\u001b[0m \u001b[0mjanuary\u001b[0m \u001b[1;33m=\u001b[0m \u001b[0mjanuary\u001b[0m\u001b[1;33m.\u001b[0m\u001b[0mdropna\u001b[0m\u001b[1;33m(\u001b[0m\u001b[1;33m)\u001b[0m\u001b[1;33m\u001b[0m\u001b[0m\n\u001b[0;32m     13\u001b[0m \u001b[1;33m\u001b[0m\u001b[0m\n",
      "\u001b[1;32mC:\\Users\\Dan\\Anaconda\\lib\\zipfile.pyc\u001b[0m in \u001b[0;36mopen\u001b[1;34m(self, name, mode, pwd)\u001b[0m\n\u001b[0;32m    959\u001b[0m             \u001b[1;32melse\u001b[0m\u001b[1;33m:\u001b[0m\u001b[1;33m\u001b[0m\u001b[0m\n\u001b[0;32m    960\u001b[0m                 \u001b[1;31m# Get info object for name\u001b[0m\u001b[1;33m\u001b[0m\u001b[1;33m\u001b[0m\u001b[0m\n\u001b[1;32m--> 961\u001b[1;33m                 \u001b[0mzinfo\u001b[0m \u001b[1;33m=\u001b[0m \u001b[0mself\u001b[0m\u001b[1;33m.\u001b[0m\u001b[0mgetinfo\u001b[0m\u001b[1;33m(\u001b[0m\u001b[0mname\u001b[0m\u001b[1;33m)\u001b[0m\u001b[1;33m\u001b[0m\u001b[0m\n\u001b[0m\u001b[0;32m    962\u001b[0m \u001b[1;33m\u001b[0m\u001b[0m\n\u001b[0;32m    963\u001b[0m             \u001b[0mzef_file\u001b[0m\u001b[1;33m.\u001b[0m\u001b[0mseek\u001b[0m\u001b[1;33m(\u001b[0m\u001b[0mzinfo\u001b[0m\u001b[1;33m.\u001b[0m\u001b[0mheader_offset\u001b[0m\u001b[1;33m,\u001b[0m \u001b[1;36m0\u001b[0m\u001b[1;33m)\u001b[0m\u001b[1;33m\u001b[0m\u001b[0m\n",
      "\u001b[1;32mC:\\Users\\Dan\\Anaconda\\lib\\zipfile.pyc\u001b[0m in \u001b[0;36mgetinfo\u001b[1;34m(self, name)\u001b[0m\n\u001b[0;32m    907\u001b[0m         \u001b[1;32mif\u001b[0m \u001b[0minfo\u001b[0m \u001b[1;32mis\u001b[0m \u001b[0mNone\u001b[0m\u001b[1;33m:\u001b[0m\u001b[1;33m\u001b[0m\u001b[0m\n\u001b[0;32m    908\u001b[0m             raise KeyError(\n\u001b[1;32m--> 909\u001b[1;33m                 'There is no item named %r in the archive' % name)\n\u001b[0m\u001b[0;32m    910\u001b[0m \u001b[1;33m\u001b[0m\u001b[0m\n\u001b[0;32m    911\u001b[0m         \u001b[1;32mreturn\u001b[0m \u001b[0minfo\u001b[0m\u001b[1;33m\u001b[0m\u001b[0m\n",
      "\u001b[1;31mKeyError\u001b[0m: \"There is no item named '201501-citibike-tripdata.csv' in the archive\""
     ]
    }
   ],
   "source": [
    "# pull winter data\n",
    "# December\n",
    "r = requests.get('https://s3.amazonaws.com/tripdata/201412-citibike-tripdata.zip')\n",
    "z = zipfile.ZipFile(StringIO.StringIO(r.content)) \n",
    "december = pd.read_csv(z.open('201412-citibike-tripdata.csv'))\n",
    "december = december.dropna()\n",
    "\n",
    "# January\n",
    "r = requests.get('https://s3.amazonaws.com/tripdata/201502-citibike-tripdata.zip')\n",
    "z = zipfile.ZipFile(StringIO.StringIO(r.content)) \n",
    "january = pd.read_csv(z.open('201501-citibike-tripdata.csv'))\n",
    "january = january.dropna()\n",
    "\n",
    "# February\n",
    "r = requests.get('https://s3.amazonaws.com/tripdata/201502-citibike-tripdata.zip')\n",
    "z = zipfile.ZipFile(StringIO.StringIO(r.content)) \n",
    "february = pd.read_csv(z.open('201502-citibike-tripdata.csv'))\n",
    "february = february.dropna()"
   ]
  },
  {
   "cell_type": "code",
   "execution_count": 27,
   "metadata": {
    "collapsed": false
   },
   "outputs": [
    {
     "ename": "NameError",
     "evalue": "name 'september' is not defined",
     "output_type": "error",
     "traceback": [
      "\u001b[1;31m---------------------------------------------------------------------------\u001b[0m",
      "\u001b[1;31mNameError\u001b[0m                                 Traceback (most recent call last)",
      "\u001b[1;32m<ipython-input-27-934eff34a408>\u001b[0m in \u001b[0;36m<module>\u001b[1;34m()\u001b[0m\n\u001b[0;32m      1\u001b[0m \u001b[1;31m# summer\u001b[0m\u001b[1;33m\u001b[0m\u001b[1;33m\u001b[0m\u001b[0m\n\u001b[1;32m----> 2\u001b[1;33m \u001b[0mage_sept\u001b[0m \u001b[1;33m=\u001b[0m \u001b[0mseptember\u001b[0m\u001b[1;33m[\u001b[0m\u001b[1;34m'birth year'\u001b[0m\u001b[1;33m]\u001b[0m\u001b[1;33m\u001b[0m\u001b[0m\n\u001b[0m\u001b[0;32m      3\u001b[0m \u001b[1;31m# age_aug\u001b[0m\u001b[1;33m\u001b[0m\u001b[1;33m\u001b[0m\u001b[0m\n\u001b[0;32m      4\u001b[0m \u001b[0mage_jul\u001b[0m \u001b[1;33m=\u001b[0m \u001b[0mjuly\u001b[0m\u001b[1;33m[\u001b[0m\u001b[1;34m'birth year'\u001b[0m\u001b[1;33m]\u001b[0m\u001b[1;33m\u001b[0m\u001b[0m\n\u001b[0;32m      5\u001b[0m \u001b[1;33m\u001b[0m\u001b[0m\n",
      "\u001b[1;31mNameError\u001b[0m: name 'september' is not defined"
     ]
    }
   ],
   "source": [
    "# summer\n",
    "age_sept = september['birth year']\n",
    "# age_aug\n",
    "age_jul = july['birth year']\n",
    "\n",
    "# winter\n",
    "age_dec = december['birth year']\n",
    "age_jan = january['birth year']\n",
    "age_feb = february['birth year']\n",
    "\n",
    "summer = [age_sept, age_aug, age_jul]\n",
    "winter = [age_dec, age_jan, age_feb]\n",
    "\n",
    "summer = pd.concat(summer)\n",
    "winter = pd.concat(winter)\n",
    "\n",
    "mean_s = summer.mean()\n",
    "std_s = summer.std()\n",
    "mean_w = winter.mean()\n",
    "std_w = winter.std()"
   ]
  },
  {
   "cell_type": "markdown",
   "metadata": {},
   "source": [
    "##Tests"
   ]
  },
  {
   "cell_type": "markdown",
   "metadata": {},
   "source": [
    "####Gaussian for Summer"
   ]
  },
  {
   "cell_type": "code",
   "execution_count": 26,
   "metadata": {
    "collapsed": false
   },
   "outputs": [
    {
     "ename": "NameError",
     "evalue": "name 'summer' is not defined",
     "output_type": "error",
     "traceback": [
      "\u001b[1;31m---------------------------------------------------------------------------\u001b[0m",
      "\u001b[1;31mNameError\u001b[0m                                 Traceback (most recent call last)",
      "\u001b[1;32m<ipython-input-26-1417fbedde60>\u001b[0m in \u001b[0;36m<module>\u001b[1;34m()\u001b[0m\n\u001b[1;32m----> 1\u001b[1;33m \u001b[0mkstest\u001b[0m \u001b[1;33m=\u001b[0m \u001b[0mscipy\u001b[0m\u001b[1;33m.\u001b[0m\u001b[0mstats\u001b[0m\u001b[1;33m.\u001b[0m\u001b[0mkstest\u001b[0m\u001b[1;33m(\u001b[0m\u001b[0msummer\u001b[0m\u001b[1;33m,\u001b[0m\u001b[1;34m'norm'\u001b[0m\u001b[1;33m,\u001b[0m \u001b[0margs\u001b[0m\u001b[1;33m=\u001b[0m\u001b[1;33m(\u001b[0m\u001b[0mmean_s\u001b[0m\u001b[1;33m,\u001b[0m\u001b[0mstd_s\u001b[0m\u001b[1;33m)\u001b[0m\u001b[1;33m)\u001b[0m\u001b[1;33m\u001b[0m\u001b[0m\n\u001b[0m\u001b[0;32m      2\u001b[0m \u001b[0manderson\u001b[0m \u001b[1;33m=\u001b[0m \u001b[0mscipy\u001b[0m\u001b[1;33m.\u001b[0m\u001b[0mstats\u001b[0m\u001b[1;33m.\u001b[0m\u001b[0manderson\u001b[0m\u001b[1;33m(\u001b[0m\u001b[0msummer\u001b[0m\u001b[1;33m,\u001b[0m \u001b[0mdist\u001b[0m\u001b[1;33m=\u001b[0m\u001b[1;34m'norm'\u001b[0m\u001b[1;33m)\u001b[0m\u001b[1;33m\u001b[0m\u001b[0m\n\u001b[0;32m      3\u001b[0m \u001b[1;32mprint\u001b[0m \u001b[1;34m'KS Test Score ='\u001b[0m\u001b[1;33m,\u001b[0m\u001b[0mkstest\u001b[0m\u001b[1;33m[\u001b[0m\u001b[1;36m0\u001b[0m\u001b[1;33m]\u001b[0m\u001b[1;33m\u001b[0m\u001b[0m\n\u001b[0;32m      4\u001b[0m \u001b[1;32mprint\u001b[0m \u001b[1;34m'p-value:'\u001b[0m\u001b[1;33m,\u001b[0m \u001b[0mkstest\u001b[0m\u001b[1;33m[\u001b[0m\u001b[1;36m1\u001b[0m\u001b[1;33m]\u001b[0m\u001b[1;33m\u001b[0m\u001b[0m\n\u001b[0;32m      5\u001b[0m \u001b[1;32mprint\u001b[0m \u001b[1;34m'\\nAnderson test: test score = '\u001b[0m\u001b[1;33m,\u001b[0m\u001b[0manderson\u001b[0m\u001b[1;33m[\u001b[0m\u001b[1;36m0\u001b[0m\u001b[1;33m]\u001b[0m\u001b[1;33m\u001b[0m\u001b[0m\n",
      "\u001b[1;31mNameError\u001b[0m: name 'summer' is not defined"
     ]
    }
   ],
   "source": [
    "kstest = scipy.stats.kstest(summer,'norm', args=(mean_s,std_s))\n",
    "anderson = scipy.stats.anderson(summer, dist='norm') \n",
    "print 'KS Test Score =',kstest[0]\n",
    "print '\\np-value:', kstest[1]\n",
    "print '\\nAnderson test: test score = ',anderson[0]"
   ]
  },
  {
   "cell_type": "markdown",
   "metadata": {},
   "source": [
    "####Gaussian for Winter"
   ]
  },
  {
   "cell_type": "code",
   "execution_count": null,
   "metadata": {
    "collapsed": true
   },
   "outputs": [],
   "source": [
    "kstest = scipy.stats.kstest(winter,'norm', args=(mean_w,std_w))\n",
    "anderson = scipy.stats.anderson(winter, dist='norm') \n",
    "print 'KS Test Score:',kstest[0]\n",
    "print '\\np-value =',kstest[1]\n",
    "print '\\nAnderson test: test score = ',anderson[0]"
   ]
  },
  {
   "cell_type": "markdown",
   "metadata": {},
   "source": [
    "####Conclusion"
   ]
  },
  {
   "cell_type": "markdown",
   "metadata": {},
   "source": [
    "The distribution of riders in the winter is closer to the normal distrubtion than during the summer time. We reject the null hypothesis for both samples."
   ]
  },
  {
   "cell_type": "markdown",
   "metadata": {},
   "source": [
    "####Logistic for Summer"
   ]
  },
  {
   "cell_type": "code",
   "execution_count": null,
   "metadata": {
    "collapsed": true
   },
   "outputs": [],
   "source": [
    "s = (math.sqrt(3)*std_s)/math.pi\n",
    "\n",
    "kstest = scipy.stats.kstest(summer, 'logistic', args=(mean_s,s)) # mean=mu, scale = s\n",
    "anderson = scipy.stats.anderson(summer, dist='logistic') \n",
    "print 'KS Test Score:',kstest[0]\n",
    "print '\\np-value:', kstest[1]\n",
    "print '\\nAnderson:',anderson[0]"
   ]
  },
  {
   "cell_type": "markdown",
   "metadata": {},
   "source": [
    "####Logistic for Winter"
   ]
  },
  {
   "cell_type": "code",
   "execution_count": null,
   "metadata": {
    "collapsed": true
   },
   "outputs": [],
   "source": [
    "s = (math.sqrt(3)*std_w)/math.pi\n",
    "\n",
    "kstest = scipy.stats.kstest(winter, 'logistic', args=(mean_w,s))\n",
    "anderson = scipy.stats.anderson(winter, dist='logistic') \n",
    "print 'KS Test Score:',kstest[0],\n",
    "print '\\np-value =',kstest[1]\n",
    "print '\\nAnderson:',anderson[0]"
   ]
  },
  {
   "cell_type": "markdown",
   "metadata": {},
   "source": [
    "###Conclusion"
   ]
  },
  {
   "cell_type": "markdown",
   "metadata": {},
   "source": [
    "We reject the null hypothesis for both samples. The logistic distribution performs more poorly than the normal distribution."
   ]
  },
  {
   "cell_type": "markdown",
   "metadata": {},
   "source": [
    "####KS Test Gamma for Summer and Winter"
   ]
  },
  {
   "cell_type": "code",
   "execution_count": null,
   "metadata": {
    "collapsed": true
   },
   "outputs": [],
   "source": [
    "kss = scipy.stats.kstest(summer, 'gamma', args=(mean_s,math.sqrt(mean_s)))\n",
    "ksw = scipy.stats.kstest(winter, 'gamma', args=(mean_w,math.sqrt(mean_w)))\n",
    "print 'KS-test for summer: \\ntest score =',kss[0],'\\np-value =',kss[1]\n",
    "print ' '\n",
    "print 'KS-test for winter: \\ntest score =',ksw[0],'\\np-value =',ksw[1]"
   ]
  },
  {
   "cell_type": "markdown",
   "metadata": {},
   "source": [
    "####KS Test Cauchy for Summer and Winter"
   ]
  },
  {
   "cell_type": "code",
   "execution_count": null,
   "metadata": {
    "collapsed": true
   },
   "outputs": [],
   "source": [
    "kss = scipy.stats.kstest(summer, 'cauchy')\n",
    "ksw = scipy.stats.kstest(winter, 'cauchy')\n",
    "print 'KS-test for summer: \\ntest score =',kss[0],'\\np-value =',kss[1]\n",
    "print ' '\n",
    "print 'KS-test for winter: \\ntest score =',ksw[0],'\\np-value =',ksw[1]"
   ]
  },
  {
   "cell_type": "markdown",
   "metadata": {},
   "source": [
    "Conclusion\n",
    "\n",
    "Both distributions perform worse than the normal distribution. Since the test scores are higher, we reject the null hypothesis."
   ]
  }
 ],
 "metadata": {
  "kernelspec": {
   "display_name": "Python 2",
   "language": "python",
   "name": "python2"
  },
  "language_info": {
   "codemirror_mode": {
    "name": "ipython",
    "version": 2
   },
   "file_extension": ".py",
   "mimetype": "text/x-python",
   "name": "python",
   "nbconvert_exporter": "python",
   "pygments_lexer": "ipython2",
   "version": "2.7.10"
  }
 },
 "nbformat": 4,
 "nbformat_minor": 0
}
